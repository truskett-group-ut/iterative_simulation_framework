{
 "cells": [
  {
   "cell_type": "code",
   "execution_count": 1,
   "metadata": {
    "collapsed": true
   },
   "outputs": [],
   "source": [
    "import sys\n",
    "sys.path.append(\"C:\\\\Users\\\\rbj428\\\\Documents\\\\research_projects\\\\iterative_simulation_framework\\\\\")"
   ]
  },
  {
   "cell_type": "code",
   "execution_count": null,
   "metadata": {
    "collapsed": true
   },
   "outputs": [],
   "source": []
  },
  {
   "cell_type": "markdown",
   "metadata": {},
   "source": [
    "### Simulation"
   ]
  },
  {
   "cell_type": "code",
   "execution_count": 13,
   "metadata": {
    "collapsed": false
   },
   "outputs": [],
   "source": [
    "import json\n",
    "import sys\n",
    "import re\n",
    "\n",
    "def MakeBool(text):\n",
    "    text = text.lower()\n",
    "    if re.match(r'\\s*true\\s*', text):\n",
    "        return True\n",
    "    elif re.match(r'\\s*false\\s*', text):\n",
    "        return False\n",
    "\n",
    "def PrepareSimulation():\n",
    "    from xml_extractor import xml_extractor \n",
    "    from potentials import potential_combiner\n",
    "\n",
    "    #read in the initialization data\n",
    "    with open('../potential_specs__params_state.json') as data_file:    \n",
    "        potential_specs__params_state = json.load(data_file)\n",
    "        potential_specs = potential_specs__params_state['specs']\n",
    "        params_state = potential_specs__params_state['state']\n",
    "\n",
    "    #create the potential\n",
    "    potential = potential_combiner.Potential(potential_specs)\n",
    "    potential.SetParamsState(params_state)\n",
    "\n",
    "    #read in potential parameter values\n",
    "    with open('./params_val.json') as data_file:    \n",
    "        params_val = json.load(data_file)\n",
    "\n",
    "    #load in xml settings\n",
    "    xml_extractor = xml_extractor.XMLExtractor()\n",
    "    xml_extractor.Parse('../settings.xml')\n",
    "\n",
    "    ###########################################################################################\n",
    "\n",
    "    simulation_program = xml_extractor.GetText('simulation', 'program').strip().lower()\n",
    "    if simulation_program == 'gromacs':\n",
    "        from gromacs_interface_tools import gromacs_potential_maker\n",
    "        xmlParser = lambda x1, x2: xml_extractor.GetText('simulation', 'gromacs', x1, x2)\n",
    "\n",
    "        #generate gromacs data\n",
    "        gromacs_potential_maker = gromacs_potential_maker.SimulationPotentialConverter()\n",
    "        gromacs_potential_maker.LoadPotential(potential, params_val)\n",
    "        gromacs_potential_maker.TabulatePotential(r_max=float(xmlParser('table', 'r_max')), \n",
    "                                                  dr=float(xmlParser('table', 'dr'))\n",
    "                                                 )\n",
    "        gromacs_potential_maker.CutShiftTabulated(e_max=float(xmlParser('potential', 'e_max')), \n",
    "                                                  f_max=float(xmlParser('potential', 'f_max')), \n",
    "                                                  r_max=float(xmlParser('potential', 'r_max')), \n",
    "                                                  shift=MakeBool(xmlParser('potential', 'shift'))\n",
    "                                                 )\n",
    "        gromacs_potential_maker.MakeTable(filename='./table.xvg')\n",
    "        gromacs_potential_maker.InsertGromppCutoff(r_buffer=float(xmlParser('grompp', 'r_buffer')), \n",
    "                                                   filename='./grompp.mdp')\n",
    "    else:\n",
    "        raise Exception('Invalid simulation program provided in settings file.')"
   ]
  },
  {
   "cell_type": "code",
   "execution_count": 2,
   "metadata": {
    "collapsed": true
   },
   "outputs": [],
   "source": [
    "from interface import prepare_simulation"
   ]
  },
  {
   "cell_type": "code",
   "execution_count": 5,
   "metadata": {
    "collapsed": false
   },
   "outputs": [],
   "source": [
    "prepare_simulation.PrepareSimulation()"
   ]
  },
  {
   "cell_type": "markdown",
   "metadata": {},
   "source": [
    "### Update"
   ]
  },
  {
   "cell_type": "code",
   "execution_count": 7,
   "metadata": {
    "collapsed": false
   },
   "outputs": [],
   "source": [
    "import json\n",
    "import sys\n",
    "import re\n",
    "\n",
    "def GenerateUpdate():\n",
    "    from xml_extractor import xml_extractor \n",
    "    from potentials import potential_combiner\n",
    "\n",
    "    #read in the initialization data\n",
    "    with open('../potential_specs__params_state.json') as data_file:    \n",
    "        potential_specs__params_state = json.load(data_file)\n",
    "        potential_specs = potential_specs__params_state['specs']\n",
    "        params_state = potential_specs__params_state['state']\n",
    "\n",
    "    #create the potential\n",
    "    potential = potential_combiner.Potential(potential_specs)\n",
    "    potential.SetParamsState(params_state)\n",
    "\n",
    "    #read in potential parameter values\n",
    "    with open('./params_val.json') as data_file:    \n",
    "        params_val = json.load(data_file)\n",
    "\n",
    "    #load in xml settings\n",
    "    xml_extractor = xml_extractor.XMLExtractor()\n",
    "    xml_extractor.Parse('../settings.xml')\n",
    "\n",
    "    ###########################################################################################\n",
    "\n",
    "    optimization_type = xml_extractor.GetText('optimization', 'type').strip().lower()\n",
    "    if optimization_type == 'relative_entropy':\n",
    "        from relative_entropy_optimizer import relative_entropy_update\n",
    "        xmlParser = lambda x: xml_extractor.GetText('optimization', 'relative_entropy', x)\n",
    "\n",
    "        #perform relative entropy update\n",
    "        relative_entropy_update = relative_entropy_update.RelativeEntropyUpdate()\n",
    "        relative_entropy_update.LoadPotential(potential, params_val)\n",
    "        relative_entropy_update.LoadRadialDistFuncs('./rdf.xvg', '../rdf_target.xvg', spacing=float(xmlParser('dr_integrate')))\n",
    "        params_val_out, conv_score = relative_entropy_update.CalcUpdate(learning_rate=float(xmlParser('learning_rate')), \n",
    "                                                                        conv_crit=xmlParser('conv_crit')\n",
    "                                                                       )\n",
    "    else:\n",
    "        raise Exception('Invalid simulation program provided in settings file.')\n",
    "\n",
    "    #write out new potential parameter values\n",
    "    with open('./params_val_out.json', 'w') as data_file:      \n",
    "        json.dump(params_val_out, data_file, indent=4, sort_keys=True)\n",
    "\n",
    "    #write out the old one but in sorted order\n",
    "    with open('./params_val.json', 'w') as data_file:    \n",
    "        json.dump(params_val, data_file, indent=4, sort_keys=True)\n",
    "        \n",
    "    return conv_score"
   ]
  },
  {
   "cell_type": "code",
   "execution_count": 8,
   "metadata": {
    "collapsed": false
   },
   "outputs": [
    {
     "data": {
      "text/plain": [
       "{'gradient': 48.297530798223058, 'rdf_diff': 263.07838263452385}"
      ]
     },
     "execution_count": 8,
     "metadata": {},
     "output_type": "execute_result"
    }
   ],
   "source": [
    "GenerateUpdate()"
   ]
  },
  {
   "cell_type": "code",
   "execution_count": 4,
   "metadata": {
    "collapsed": true
   },
   "outputs": [],
   "source": [
    "import sys\n",
    "sys.path.insert(0,'../../')"
   ]
  },
  {
   "cell_type": "code",
   "execution_count": 6,
   "metadata": {
    "collapsed": false
   },
   "outputs": [],
   "source": [
    "from interface import generate_update"
   ]
  },
  {
   "cell_type": "code",
   "execution_count": 7,
   "metadata": {
    "collapsed": false
   },
   "outputs": [
    {
     "data": {
      "text/plain": [
       "{'gradient': 48.297530798223058, 'rdf_diff': 263.07838263452385}"
      ]
     },
     "execution_count": 7,
     "metadata": {},
     "output_type": "execute_result"
    }
   ],
   "source": [
    "generate_update.GenerateUpdate()"
   ]
  },
  {
   "cell_type": "code",
   "execution_count": 22,
   "metadata": {
    "collapsed": false
   },
   "outputs": [
    {
     "data": {
      "text/plain": [
       "['',\n",
       " 'C:\\\\Users\\\\rbj428\\\\AppData\\\\Local\\\\Continuum\\\\Anaconda2_3\\\\python27.zip',\n",
       " 'C:\\\\Users\\\\rbj428\\\\AppData\\\\Local\\\\Continuum\\\\Anaconda2_3\\\\DLLs',\n",
       " 'C:\\\\Users\\\\rbj428\\\\AppData\\\\Local\\\\Continuum\\\\Anaconda2_3\\\\lib',\n",
       " 'C:\\\\Users\\\\rbj428\\\\AppData\\\\Local\\\\Continuum\\\\Anaconda2_3\\\\lib\\\\plat-win',\n",
       " 'C:\\\\Users\\\\rbj428\\\\AppData\\\\Local\\\\Continuum\\\\Anaconda2_3\\\\lib\\\\lib-tk',\n",
       " 'C:\\\\Users\\\\rbj428\\\\AppData\\\\Local\\\\Continuum\\\\Anaconda2_3',\n",
       " 'C:\\\\Users\\\\rbj428\\\\AppData\\\\Local\\\\Continuum\\\\Anaconda2_3\\\\lib\\\\site-packages',\n",
       " 'C:\\\\Users\\\\rbj428\\\\AppData\\\\Local\\\\Continuum\\\\Anaconda2_3\\\\lib\\\\site-packages\\\\Sphinx-1.5.1-py2.7.egg',\n",
       " 'C:\\\\Users\\\\rbj428\\\\AppData\\\\Local\\\\Continuum\\\\Anaconda2_3\\\\lib\\\\site-packages\\\\win32',\n",
       " 'C:\\\\Users\\\\rbj428\\\\AppData\\\\Local\\\\Continuum\\\\Anaconda2_3\\\\lib\\\\site-packages\\\\win32\\\\lib',\n",
       " 'C:\\\\Users\\\\rbj428\\\\AppData\\\\Local\\\\Continuum\\\\Anaconda2_3\\\\lib\\\\site-packages\\\\Pythonwin',\n",
       " 'C:\\\\Users\\\\rbj428\\\\AppData\\\\Local\\\\Continuum\\\\Anaconda2_3\\\\lib\\\\site-packages\\\\sputnik-0.9.3-py2.7.egg',\n",
       " 'C:\\\\Users\\\\rbj428\\\\AppData\\\\Local\\\\Continuum\\\\Anaconda2_3\\\\lib\\\\site-packages\\\\IPython\\\\extensions',\n",
       " 'C:\\\\Users\\\\rbj428\\\\.ipython',\n",
       " 'C:\\\\Users\\\\rbj428\\\\Documents\\\\research_projects\\\\iterative_simulation_framework\\\\']"
      ]
     },
     "execution_count": 22,
     "metadata": {},
     "output_type": "execute_result"
    }
   ],
   "source": [
    "sys.path"
   ]
  },
  {
   "cell_type": "code",
   "execution_count": 1,
   "metadata": {
    "collapsed": true
   },
   "outputs": [],
   "source": [
    "import sys"
   ]
  },
  {
   "cell_type": "code",
   "execution_count": 9,
   "metadata": {
    "collapsed": false
   },
   "outputs": [
    {
     "name": "stdout",
     "output_type": "stream",
     "text": [
      "Object `json` not found.\n"
     ]
    }
   ],
   "source": [
    "json?"
   ]
  },
  {
   "cell_type": "code",
   "execution_count": 2,
   "metadata": {
    "collapsed": false
   },
   "outputs": [],
   "source": [
    "sys.path.append(\"C:\\\\Users\\\\rbj428\\\\Documents\\\\research_projects\\\\iterative_simulation_framework\\\\\")"
   ]
  },
  {
   "cell_type": "code",
   "execution_count": 10,
   "metadata": {
    "collapsed": false
   },
   "outputs": [
    {
     "data": {
      "text/plain": [
       "'C:\\\\Users\\\\rbj428\\\\Documents\\\\research_projects\\\\iterative_simulation_framework\\\\'"
      ]
     },
     "execution_count": 10,
     "metadata": {},
     "output_type": "execute_result"
    }
   ],
   "source": [
    "\"C:\\\\Users\\\\rbj428\\\\Documents\\\\research_projects\\\\iterative_simulation_framework\\\\\""
   ]
  },
  {
   "cell_type": "code",
   "execution_count": 17,
   "metadata": {
    "collapsed": false
   },
   "outputs": [
    {
     "name": "stdout",
     "output_type": "stream",
     "text": [
      "Object `xml_extractor` not found.\n"
     ]
    }
   ],
   "source": [
    "xml_extractor?"
   ]
  },
  {
   "cell_type": "code",
   "execution_count": 3,
   "metadata": {
    "collapsed": false
   },
   "outputs": [
    {
     "data": {
      "text/plain": [
       "False"
      ]
     },
     "execution_count": 3,
     "metadata": {},
     "output_type": "execute_result"
    }
   ],
   "source": [
    "bool(False)"
   ]
  },
  {
   "cell_type": "code",
   "execution_count": null,
   "metadata": {
    "collapsed": true
   },
   "outputs": [],
   "source": []
  }
 ],
 "metadata": {
  "kernelspec": {
   "display_name": "Python 2",
   "language": "python",
   "name": "python2"
  },
  "language_info": {
   "codemirror_mode": {
    "name": "ipython",
    "version": 2
   },
   "file_extension": ".py",
   "mimetype": "text/x-python",
   "name": "python",
   "nbconvert_exporter": "python",
   "pygments_lexer": "ipython2",
   "version": "2.7.11"
  }
 },
 "nbformat": 4,
 "nbformat_minor": 2
}
