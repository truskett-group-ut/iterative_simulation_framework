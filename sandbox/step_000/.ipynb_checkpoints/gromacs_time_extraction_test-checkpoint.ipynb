{
 "cells": [
  {
   "cell_type": "code",
   "execution_count": 8,
   "metadata": {
    "collapsed": true
   },
   "outputs": [],
   "source": [
    "import re\n",
    "\n",
    "def GromacsTime():\n",
    "    f = open('./grompp.mdp', 'r')\n",
    "    gromacs_data = f.read()\n",
    "    \n",
    "    #initial check on zero time\n",
    "    search = re.search(r'tinit\\s*=\\s*([-+]?[0-9]*\\.?[0-9]+([eE][-+]?[0-9]+)?)', gromacs_data)\n",
    "    if search.group(1):\n",
    "        tinit = float(search.group(1))\n",
    "        if tinit > 0.00000001:\n",
    "            raise Exception('\"tinit\" in grompp file is non-zero.')\n",
    "        \n",
    "    #read in the time data\n",
    "    try:\n",
    "        dt = float(re.search(r'dt\\s*=\\s*([-+]?[0-9]*\\.?[0-9]+([eE][-+]?[0-9]+)?)', gromacs_data).group(1))\n",
    "        nsteps = float(re.search(r'nsteps\\s*=\\s*([-+]?[0-9]*\\.?[0-9]+([eE][-+]?[0-9]+)?)', gromacs_data).group(1))\n",
    "    except:\n",
    "        raise Exception('Could not extract \"dt\" and/or \"nsteps\" from the grompp file.')\n",
    "        \n",
    "    f.close()\n",
    "        \n",
    "    return (dt*nsteps)"
   ]
  },
  {
   "cell_type": "code",
   "execution_count": 9,
   "metadata": {
    "collapsed": true
   },
   "outputs": [],
   "source": [
    "tinit                    = 0\n",
    "dt                       = 0.001    ;0.0005\n",
    "nsteps                   = 1000000"
   ]
  },
  {
   "cell_type": "code",
   "execution_count": 12,
   "metadata": {
    "collapsed": false
   },
   "outputs": [
    {
     "data": {
      "text/plain": [
       "1000.0"
      ]
     },
     "execution_count": 12,
     "metadata": {},
     "output_type": "execute_result"
    }
   ],
   "source": [
    "GromacsTime()"
   ]
  },
  {
   "cell_type": "code",
   "execution_count": null,
   "metadata": {
    "collapsed": true
   },
   "outputs": [],
   "source": []
  }
 ],
 "metadata": {
  "kernelspec": {
   "display_name": "Python 2",
   "language": "python",
   "name": "python2"
  },
  "language_info": {
   "codemirror_mode": {
    "name": "ipython",
    "version": 2
   },
   "file_extension": ".py",
   "mimetype": "text/x-python",
   "name": "python",
   "nbconvert_exporter": "python",
   "pygments_lexer": "ipython2",
   "version": "2.7.13"
  }
 },
 "nbformat": 4,
 "nbformat_minor": 2
}
