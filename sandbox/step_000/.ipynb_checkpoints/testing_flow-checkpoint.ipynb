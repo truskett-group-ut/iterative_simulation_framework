{
 "cells": [
  {
   "cell_type": "code",
   "execution_count": 4,
   "metadata": {
    "collapsed": false
   },
   "outputs": [],
   "source": [
    "import json\n",
    "import sys\n",
    "import re\n",
    "\n",
    "with open('../settings.xml', 'r') as outfile:  \n",
    "    path = re.search(r'<code_directory>(.+)</code_directory>', outfile.read()).group(1)\n",
    "\n",
    "sys.path.insert(0, path)\n",
    "\n",
    "from xml_extractor import xml_extractor \n",
    "from potentials import potential_combiner\n",
    "from gromacs_interface_tools import gromacs_potential_maker\n",
    "\n",
    "def MakeBool(text):\n",
    "    text = text.lower()\n",
    "    if re.match(r'\\s*true\\s*', text):\n",
    "        return True\n",
    "    elif re.match(r'\\s*false\\s*', text):\n",
    "        return False\n",
    "\n",
    "###########################################################################################\n",
    "\n",
    "#read in the initialization data\n",
    "with open('../potential_specs__params_state.json') as data_file:    \n",
    "    potential_specs__params_state = json.load(data_file)\n",
    "    potential_specs = potential_specs__params_state['specs']\n",
    "    params_state = potential_specs__params_state['state']\n",
    "    \n",
    "#create the potential\n",
    "potential = potential_combiner.Potential(potential_specs)\n",
    "potential.SetParamsState(params_state)\n",
    "\n",
    "#read in potential parameter values\n",
    "with open('./params_val.json') as data_file:    \n",
    "    params_val = json.load(data_file)\n",
    "\n",
    "#load in xml settings\n",
    "xml_extractor = xml_extractor.XMLExtractor()\n",
    "xml_extractor.Parse('../settings.xml')\n",
    "xmlParser = lambda x1, x2: xml_extractor.GetText('simulation', 'gromacs', x1, x2)\n",
    "\n",
    "#generate gromacs data\n",
    "gromacs_potential_maker = gromacs_potential_maker.SimulationPotentialConverter()\n",
    "gromacs_potential_maker.LoadPotential(potential, params_val)\n",
    "gromacs_potential_maker.TabulatePotential(r_max=float(xmlParser('table', 'r_max')), \n",
    "                                          dr=float(xmlParser('table', 'dr'))\n",
    "                                         )\n",
    "gromacs_potential_maker.CutShiftTabulated(e_max=float(xmlParser('potential', 'e_max')), \n",
    "                                          f_max=float(xmlParser('potential', 'f_max')), \n",
    "                                          r_max=float(xmlParser('potential', 'r_max')), \n",
    "                                          shift=MakeBool(xmlParser('potential', 'shift'))\n",
    "                                         )\n",
    "gromacs_potential_maker.MakeTable(filename='./table.xvg')\n",
    "gromacs_potential_maker.InsertGromppCutoff(r_buffer=float(xmlParser('grompp', 'r_buffer')), \n",
    "                                           filename='./grompp.mdp')"
   ]
  },
  {
   "cell_type": "code",
   "execution_count": null,
   "metadata": {
    "collapsed": true
   },
   "outputs": [],
   "source": []
  }
 ],
 "metadata": {
  "kernelspec": {
   "display_name": "Python 2",
   "language": "python",
   "name": "python2"
  },
  "language_info": {
   "codemirror_mode": {
    "name": "ipython",
    "version": 2
   },
   "file_extension": ".py",
   "mimetype": "text/x-python",
   "name": "python",
   "nbconvert_exporter": "python",
   "pygments_lexer": "ipython2",
   "version": "2.7.13"
  }
 },
 "nbformat": 4,
 "nbformat_minor": 2
}
