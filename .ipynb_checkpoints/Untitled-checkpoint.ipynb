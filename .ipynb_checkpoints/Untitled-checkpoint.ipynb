{
 "cells": [
  {
   "cell_type": "code",
   "execution_count": 20,
   "metadata": {
    "collapsed": false
   },
   "outputs": [],
   "source": [
    "import subprocess\n",
    "from xml_extractor import xml_extractor\n",
    "from sys import exit"
   ]
  },
  {
   "cell_type": "code",
   "execution_count": 21,
   "metadata": {
    "collapsed": false
   },
   "outputs": [],
   "source": [
    "xml_extractor=xml_extractor.XMLExtractor()\n",
    "xml_extractor.Parse('settings.xml')\n",
    "max_iter=xml_extractor.GetText('main', 'max_iter')\n",
    "conv_crit_thresh=xml_extractor.GetText('main', 'conv_crit')\n",
    "opt_type=xml_extractor.GetText('main', 'opt_type')\n",
    "num_threads=xml_extractor.GetText('simulation', 'num_threads')\n",
    "equil_time=xml_extractor.GetText('simulation', 'equil_time')"
   ]
  },
  {
   "cell_type": "code",
   "execution_count": 22,
   "metadata": {
    "collapsed": false
   },
   "outputs": [],
   "source": [
    "output = subprocess.Popen([\"./init.sh\"], stdout = subprocess.PIPE, stderr = subprocess.STDOUT).communicate()[0]"
   ]
  },
  {
   "cell_type": "code",
   "execution_count": 23,
   "metadata": {
    "collapsed": false
   },
   "outputs": [
    {
     "data": {
      "text/plain": [
       "'step_000\\nstep_001\\n'"
      ]
     },
     "execution_count": 23,
     "metadata": {},
     "output_type": "execute_result"
    }
   ],
   "source": [
    "output"
   ]
  },
  {
   "cell_type": "code",
   "execution_count": 24,
   "metadata": {
    "collapsed": false
   },
   "outputs": [],
   "source": [
    "work_dir=output.split(\"\\n\")"
   ]
  },
  {
   "cell_type": "code",
   "execution_count": 25,
   "metadata": {
    "collapsed": false
   },
   "outputs": [
    {
     "name": "stdout",
     "output_type": "stream",
     "text": [
      "step_000\n",
      "step_001\n"
     ]
    }
   ],
   "source": [
    "print work_dir[0]\n",
    "print work_dir[1]"
   ]
  },
  {
   "cell_type": "code",
   "execution_count": 17,
   "metadata": {
    "collapsed": false
   },
   "outputs": [
    {
     "name": "stdout",
     "output_type": "stream",
     "text": [
      "pass\n"
     ]
    }
   ],
   "source": [
    "new_dir=int(work_dir[1].lstrip('step_'))\n",
    "old_dir=int(work_dir[0].lstrip('step_'))\n",
    "if old_dir == new_dir:\n",
    "    if old_dir == 0:\n",
    "        #need an initial guess\n",
    "        print \"initial guess needed\"\n",
    "        new_dir += 1\n",
    "    else:\n",
    "        #might need to post process then need to update parameters\n",
    "        print \"post process\"\n",
    "        new_dir += 1\n",
    "if old_dir+1 != new_dir:\n",
    "    print old_dir, new_dir, \"old and new directory are not consistent\"\n",
    "print \"pass\""
   ]
  },
  {
   "cell_type": "code",
   "execution_count": null,
   "metadata": {
    "collapsed": true
   },
   "outputs": [],
   "source": [
    "while new_dir <= max_iter and conv_crit >= conv_crit_thresh:\n",
    "    #move files around\n",
    "    dum1=subprocess.Popen([\"./prepare_gromacs.sh\", new_dir])\n",
    "    #prepare simulation files, Ryan's python script, json & grompp are in the cwd\n",
    "    dum1=subprocess.Popen([\"./interface/prepare_simulation.py\"])\n",
    "    #run simulation\n",
    "    dum1=subprocess.Popen([\"./run_gromacs.sh\", num_threads])\n",
    "    #post process\n",
    "    if opt_type == 'RE':\n",
    "        dum1=subprocess.Popen([\"./run_rdf_gromacs.sh\", num_threads, equil_time])\n",
    "    else:\n",
    "        print 'opt_type not recognized'\n",
    "        exit(1)\n",
    "    #update parameters\n",
    "    dum1=subprocess.Popen([\"./interface/generate_update.py\"])"
   ]
  },
  {
   "cell_type": "code",
   "execution_count": 11,
   "metadata": {
    "collapsed": false
   },
   "outputs": [],
   "source": []
  }
 ],
 "metadata": {
  "kernelspec": {
   "display_name": "Python 2",
   "language": "python",
   "name": "python2"
  },
  "language_info": {
   "codemirror_mode": {
    "name": "ipython",
    "version": 2
   },
   "file_extension": ".py",
   "mimetype": "text/x-python",
   "name": "python",
   "nbconvert_exporter": "python",
   "pygments_lexer": "ipython2",
   "version": "2.7.11"
  }
 },
 "nbformat": 4,
 "nbformat_minor": 0
}
