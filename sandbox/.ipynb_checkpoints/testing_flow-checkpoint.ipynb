{
 "cells": [
  {
   "cell_type": "code",
   "execution_count": null,
   "metadata": {
    "collapsed": true
   },
   "outputs": [],
   "source": [
    "import json\n",
    "import sys\n",
    "import re\n",
    "\n",
    "with open('./settings.xml', 'r') as outfile:  \n",
    "    path = re.search(r'<code_directory>(.+)</code_directory>', outfile.read()).group(1)\n",
    "\n",
    "sys.path.insert(0, path)\n",
    "\n",
    "from xml_extractor import xml_extractor \n",
    "from potentials import potential_combiner\n",
    "from gromacs_interface_tools import gromacs_potential_maker\n",
    "\n",
    "#with open('data.txt', 'w') as outfile:  \n",
    "#    json.dump(data, outfile)\n"
   ]
  }
 ],
 "metadata": {
  "kernelspec": {
   "display_name": "Python 2",
   "language": "python",
   "name": "python2"
  },
  "language_info": {
   "codemirror_mode": {
    "name": "ipython",
    "version": 2
   },
   "file_extension": ".py",
   "mimetype": "text/x-python",
   "name": "python",
   "nbconvert_exporter": "python",
   "pygments_lexer": "ipython2",
   "version": "2.7.13"
  }
 },
 "nbformat": 4,
 "nbformat_minor": 2
}
